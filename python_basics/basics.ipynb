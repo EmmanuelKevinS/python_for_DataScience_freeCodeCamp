{
 "cells": [
  {
   "cell_type": "markdown",
   "metadata": {},
   "source": [
    "LIST"
   ]
  },
  {
   "cell_type": "code",
   "execution_count": 6,
   "metadata": {},
   "outputs": [
    {
     "data": {
      "text/plain": [
       "['Singapore', 'United States', 'United Kingdom', 'Australia']"
      ]
     },
     "execution_count": 6,
     "metadata": {},
     "output_type": "execute_result"
    }
   ],
   "source": [
    "countries = [\"Singapore\", \"United States\", \"United Kingdom\", \"Australia\"]\n",
    "countries"
   ]
  },
  {
   "cell_type": "markdown",
   "metadata": {},
   "source": []
  },
  {
   "cell_type": "code",
   "execution_count": 8,
   "metadata": {},
   "outputs": [
    {
     "data": {
      "text/plain": [
       "'Singapore'"
      ]
     },
     "execution_count": 8,
     "metadata": {},
     "output_type": "execute_result"
    }
   ],
   "source": [
    "countries[0]"
   ]
  },
  {
   "cell_type": "code",
   "execution_count": 9,
   "metadata": {},
   "outputs": [
    {
     "name": "stdout",
     "output_type": "stream",
     "text": [
      "Singapore\n",
      "United States\n",
      "United Kingdom\n",
      "Australia\n"
     ]
    }
   ],
   "source": [
    "for country in countries:\n",
    "    print(country) "
   ]
  },
  {
   "cell_type": "code",
   "execution_count": 12,
   "metadata": {},
   "outputs": [],
   "source": [
    "countries.append(\"Canada\")\n",
    "countries"
   ]
  },
  {
   "cell_type": "code",
   "execution_count": 16,
   "metadata": {},
   "outputs": [
    {
     "data": {
      "text/plain": [
       "['Italy',\n",
       " 'Italy',\n",
       " 'Italy',\n",
       " 'Singapore',\n",
       " 'United States',\n",
       " 'United Kingdom',\n",
       " 'Australia',\n",
       " 'Canada',\n",
       " 'Canada']"
      ]
     },
     "execution_count": 16,
     "metadata": {},
     "output_type": "execute_result"
    }
   ],
   "source": [
    "countries.insert(0, \"Italy\")\n",
    "countries"
   ]
  },
  {
   "cell_type": "markdown",
   "metadata": {},
   "source": [
    "SETS"
   ]
  },
  {
   "cell_type": "code",
   "execution_count": 72,
   "metadata": {},
   "outputs": [
    {
     "name": "stdout",
     "output_type": "stream",
     "text": [
      "{'Singapore', 'Canada', 'Italy', 'United States', 'Australia', 'United Kingdom'}\n"
     ]
    }
   ],
   "source": [
    "unique_countries = set(countries)\n",
    "print(unique_countries)\n"
   ]
  },
  {
   "cell_type": "markdown",
   "metadata": {},
   "source": [
    "DICTIONARY"
   ]
  },
  {
   "cell_type": "code",
   "execution_count": 73,
   "metadata": {},
   "outputs": [
    {
     "data": {
      "text/plain": [
       "{'apple': 'red', 'banana': 'yellow', 'grape': 'purple'}"
      ]
     },
     "execution_count": 73,
     "metadata": {},
     "output_type": "execute_result"
    }
   ],
   "source": [
    "fruits = {\"apple\":\"red\", \"banana\":\"yellow\", \"grape\":\"purple\"}\n",
    "fruits"
   ]
  },
  {
   "cell_type": "code",
   "execution_count": 74,
   "metadata": {},
   "outputs": [
    {
     "data": {
      "text/plain": [
       "[('apple:', 'red'), ('banana', 'yellow'), ('grape', 'purple')]"
      ]
     },
     "execution_count": 74,
     "metadata": {},
     "output_type": "execute_result"
    }
   ],
   "source": [
    "fruit_list = [(\"apple:\",\"red\"),(\"banana\",\"yellow\"),(\"grape\",\"purple\")]\n",
    "fruit_list"
   ]
  },
  {
   "cell_type": "code",
   "execution_count": 75,
   "metadata": {},
   "outputs": [
    {
     "name": "stdout",
     "output_type": "stream",
     "text": [
      "Captain America has 70 health points. He uses a Shield.\n",
      "Black Widow has 40 health points. She uses a Gauntlet.\n",
      "Thor has 100 health points. He uses a Hammer.\n",
      "Iron Man has 80 health points. He uses a Suit.\n"
     ]
    }
   ],
   "source": [
    "characters = [\n",
    "    {\n",
    "        \"Name\":\"Captain America\",\n",
    "        \"Health\": 70,\n",
    "        \"Weapon\": \"Shield\",\n",
    "        \"Gender\":\"Male\"\n",
    "    },\n",
    "    {\n",
    "        \"Name\": \"Black Widow\",\n",
    "        \"Health\": 40,\n",
    "        \"Weapon\": \"Gauntlet\",\n",
    "        \"Gender\": \"Female\"\n",
    "    },\n",
    "    {\n",
    "        \"Name\": \"Thor\",\n",
    "        \"Health\": 100,\n",
    "        \"Weapon\": \"Hammer\",\n",
    "        \"Gender\": \"Male\"\n",
    "    },\n",
    "    {\n",
    "        \"Name\": \"Iron Man\",\n",
    "        \"Health\": 80,\n",
    "        \"Weapon\": \"Suit\",\n",
    "        \"Gender\": \"Male\"\n",
    "    }\n",
    "]\n",
    "\n",
    "\n",
    "for char in characters:\n",
    "    pronoun = \"He\" if char[\"Gender\"] == \"Male\" else \"She\"\n",
    "    print(f'{char[\"Name\"]} has {char[\"Health\"]} health points. {pronoun} uses a {char[\"Weapon\"]}.')\n",
    "\n"
   ]
  },
  {
   "cell_type": "code",
   "execution_count": 76,
   "metadata": {},
   "outputs": [
    {
     "data": {
      "text/plain": [
       "{'apple': 'red', 'banana': 'yellow', 'grape': 'purple'}"
      ]
     },
     "execution_count": 76,
     "metadata": {},
     "output_type": "execute_result"
    }
   ],
   "source": [
    "fruits = {\"apple\":\"red\", \"banana\":\"yellow\", \"grape\":\"purple\"}\n",
    "fruits"
   ]
  },
  {
   "cell_type": "code",
   "execution_count": 82,
   "metadata": {},
   "outputs": [
    {
     "data": {
      "text/plain": [
       "{'apple': 'green', 'grape': 'purple', 'watermelon': 'green', 'pear': 'green'}"
      ]
     },
     "execution_count": 82,
     "metadata": {},
     "output_type": "execute_result"
    }
   ],
   "source": [
    "\n",
    "fruits[\"pear\"] = \"green\"\n",
    "fruits"
   ]
  },
  {
   "cell_type": "code",
   "execution_count": 83,
   "metadata": {},
   "outputs": [
    {
     "data": {
      "text/plain": [
       "{'apple': 'green', 'grape': 'purple', 'watermelon': 'green', 'pear': 'green'}"
      ]
     },
     "execution_count": 83,
     "metadata": {},
     "output_type": "execute_result"
    }
   ],
   "source": [
    "#can add an item into the dictionary while modifying an existing entry -> use update\n",
    "fruits.update({\"watermelon\":\"green\",\"apple\":\"green\"})\n",
    "fruits"
   ]
  },
  {
   "cell_type": "code",
   "execution_count": 84,
   "metadata": {},
   "outputs": [
    {
     "data": {
      "text/plain": [
       "{'apple': 'green', 'grape': 'purple', 'watermelon': 'green', 'pear': 'green'}"
      ]
     },
     "execution_count": 84,
     "metadata": {},
     "output_type": "execute_result"
    }
   ],
   "source": [
    "fruits.update({\"banana\":\"yellow\"}) #had to do this because i accidentally popped it earlier - ignore line\n",
    "fruits.pop(\"banana\")\n",
    "fruits\n",
    "#popitem -> pops the last item"
   ]
  },
  {
   "cell_type": "code",
   "execution_count": 85,
   "metadata": {},
   "outputs": [
    {
     "name": "stdout",
     "output_type": "stream",
     "text": [
      "Name:Alice\n",
      "Age:20\n",
      "Gender:F\n"
     ]
    }
   ],
   "source": [
    "student = {\"Name\":\"Alice\",\"Age\":20,\"Gender\":\"F\"}\n",
    "\n",
    "#key \n",
    "#value\n",
    "#items() -> method needed\n",
    "\n",
    "for key,value in student.items():\n",
    "    print(f\"{key}:{value}\")"
   ]
  },
  {
   "cell_type": "code",
   "execution_count": 86,
   "metadata": {},
   "outputs": [
    {
     "name": "stdout",
     "output_type": "stream",
     "text": [
      "{'a': 0, 'b': 0, 'c': 0}\n"
     ]
    }
   ],
   "source": [
    "#fromkeys method -> creates a new dictionary with keys form the list where all values are set to a default value\n",
    "keys = [\"a\", \"b\", \"c\"]\n",
    "default = 0\n",
    "new_dict = dict.fromkeys(keys,default)\n",
    "print(new_dict)\n"
   ]
  },
  {
   "cell_type": "code",
   "execution_count": 87,
   "metadata": {},
   "outputs": [
    {
     "data": {
      "text/plain": [
       "{'apple': 1.0, 'orange': 1.5, 'banana': 0.5}"
      ]
     },
     "execution_count": 87,
     "metadata": {},
     "output_type": "execute_result"
    }
   ],
   "source": [
    "#performing math operations on the value\n",
    "prices = { \"apple\":0.5,\"orange\":0.75,\"banana\":0.25 }\n",
    "double_prices = {fruit:price * 2 for fruit,price in prices.items()}\n",
    "double_prices"
   ]
  },
  {
   "cell_type": "markdown",
   "metadata": {},
   "source": [
    "FUNCTIONS"
   ]
  },
  {
   "cell_type": "code",
   "execution_count": 90,
   "metadata": {},
   "outputs": [
    {
     "name": "stdout",
     "output_type": "stream",
     "text": [
      "I have a dog named Dexter\n"
     ]
    }
   ],
   "source": [
    "def describe_pet(animal, name):\n",
    "    print(f\"I have a {animal} named {name}\")\n",
    "    \n",
    "describe_pet(\"dog\",\"Dexter\")"
   ]
  },
  {
   "cell_type": "code",
   "execution_count": 91,
   "metadata": {},
   "outputs": [
    {
     "data": {
      "text/plain": [
       "[1, 4, 9, 16, 25]"
      ]
     },
     "execution_count": 91,
     "metadata": {},
     "output_type": "execute_result"
    }
   ],
   "source": [
    "# map(function,iterable)\n",
    "numbers = [1,2,3,4,5]\n",
    "squared_numbers = list(map(lambda x: x**2, numbers))\n",
    "squared_numbers"
   ]
  },
  {
   "cell_type": "code",
   "execution_count": null,
   "metadata": {},
   "outputs": [],
   "source": []
  }
 ],
 "metadata": {
  "kernelspec": {
   "display_name": "Python 3",
   "language": "python",
   "name": "python3"
  },
  "language_info": {
   "codemirror_mode": {
    "name": "ipython",
    "version": 3
   },
   "file_extension": ".py",
   "mimetype": "text/x-python",
   "name": "python",
   "nbconvert_exporter": "python",
   "pygments_lexer": "ipython3",
   "version": "3.11.4"
  }
 },
 "nbformat": 4,
 "nbformat_minor": 2
}
